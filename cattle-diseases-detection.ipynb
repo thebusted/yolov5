{
 "cells": [
  {
   "cell_type": "code",
   "execution_count": 1,
   "metadata": {},
   "outputs": [
    {
     "name": "stdout",
     "output_type": "stream",
     "text": [
      "Ultralytics YOLOv8.2.8  Python-3.11.9 torch-2.3.0+cpu CPU (Intel Core(TM) i7-9700 3.00GHz)\n",
      "Setup complete  (8 CPUs, 63.9 GB RAM, 20.6/111.8 GB disk)\n"
     ]
    }
   ],
   "source": [
    "import ultralytics\n",
    "from ultralytics import YOLO\n",
    "ultralytics.checks()"
   ]
  },
  {
   "cell_type": "code",
   "execution_count": 6,
   "metadata": {},
   "outputs": [
    {
     "data": {
      "text/plain": [
       "['Infected Foot',\n",
       " 'Mouth Disease Infected',\n",
       " 'Healthy Cow',\n",
       " 'Normal Mouth',\n",
       " 'Lumpy Skin']"
      ]
     },
     "execution_count": 6,
     "metadata": {},
     "output_type": "execute_result"
    }
   ],
   "source": [
    "model = YOLO('weights/detect/diseases.v8.pt')\n",
    "    \n",
    "model.names\n",
    "\n",
    "# Convert model.names to list\n",
    "names = [name for name in model.names.values()]\n",
    "names"
   ]
  }
 ],
 "metadata": {
  "kernelspec": {
   "display_name": "aiml",
   "language": "python",
   "name": "python3"
  },
  "language_info": {
   "codemirror_mode": {
    "name": "ipython",
    "version": 3
   },
   "file_extension": ".py",
   "mimetype": "text/x-python",
   "name": "python",
   "nbconvert_exporter": "python",
   "pygments_lexer": "ipython3",
   "version": "3.11.9"
  }
 },
 "nbformat": 4,
 "nbformat_minor": 2
}
