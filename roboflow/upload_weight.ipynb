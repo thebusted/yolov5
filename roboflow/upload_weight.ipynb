{
 "cells": [
  {
   "cell_type": "code",
   "execution_count": 2,
   "metadata": {},
   "outputs": [],
   "source": [
    "from roboflow import Roboflow"
   ]
  },
  {
   "cell_type": "code",
   "execution_count": 3,
   "metadata": {},
   "outputs": [],
   "source": [
    "KEY = \"tkuLgCcnQ6ffb6Z84gdw\"\n",
    "WORKSPACE = \"aiml-s4ten\"\n",
    "PROJECT = \"car-damage-bytpq\""
   ]
  },
  {
   "cell_type": "code",
   "execution_count": 4,
   "metadata": {},
   "outputs": [
    {
     "name": "stdout",
     "output_type": "stream",
     "text": [
      "loading Roboflow workspace...\n",
      "loading Roboflow project...\n"
     ]
    }
   ],
   "source": [
    "rf = Roboflow(api_key=KEY)\n",
    "project = rf.workspace(WORKSPACE).project(PROJECT)\n"
   ]
  },
  {
   "cell_type": "code",
   "execution_count": 5,
   "metadata": {},
   "outputs": [
    {
     "name": "stdout",
     "output_type": "stream",
     "text": [
      "{\n",
      "  \"name\": \"Car Damage\",\n",
      "  \"type\": \"instance-segmentation\",\n",
      "  \"version\": \"1\",\n",
      "  \"augmentation\": {},\n",
      "  \"created\": 1721028382.8,\n",
      "  \"preprocessing\": {\n",
      "    \"auto-orient\": true,\n",
      "    \"resize\": {\n",
      "      \"format\": \"Stretch to\",\n",
      "      \"width\": 640,\n",
      "      \"height\": 640\n",
      "    }\n",
      "  },\n",
      "  \"splits\": {\n",
      "    \"valid\": 183,\n",
      "    \"test\": 89,\n",
      "    \"train\": 644\n",
      "  },\n",
      "  \"workspace\": \"aiml-s4ten\"\n",
      "}\n"
     ]
    }
   ],
   "source": [
    "version = project.version(1)\n",
    "print(version)"
   ]
  },
  {
   "cell_type": "markdown",
   "metadata": {},
   "source": [
    "Dependency ultralytics==8.0.196 is required but found version=8.2.42, to fix: `pip install ultralytics==8.0.196`"
   ]
  },
  {
   "cell_type": "code",
   "execution_count": 22,
   "metadata": {},
   "outputs": [
    {
     "name": "stdout",
     "output_type": "stream",
     "text": [
      "Dependency ultralytics==8.0.196 is required but found version=8.2.42, to fix: `pip install ultralytics==8.0.196`\n",
      "An error occured when getting the model upload URL: This version already has a trained model. Please generate and train a new version in order to upload model to Roboflow.\n"
     ]
    }
   ],
   "source": [
    "version.deploy(\"yolov8-seg\", \"./../weights/segment/\", \"car-damage.pt\")"
   ]
  },
  {
   "cell_type": "code",
   "execution_count": 1,
   "metadata": {},
   "outputs": [
    {
     "name": "stdout",
     "output_type": "stream",
     "text": [
      "8.0.196\n"
     ]
    }
   ],
   "source": [
    "# Get current version of ultralytics\n",
    "import ultralytics\n",
    "print(ultralytics.__version__)\n"
   ]
  }
 ],
 "metadata": {
  "kernelspec": {
   "display_name": "aiml",
   "language": "python",
   "name": "python3"
  },
  "language_info": {
   "codemirror_mode": {
    "name": "ipython",
    "version": 3
   },
   "file_extension": ".py",
   "mimetype": "text/x-python",
   "name": "python",
   "nbconvert_exporter": "python",
   "pygments_lexer": "ipython3",
   "version": "3.11.9"
  }
 },
 "nbformat": 4,
 "nbformat_minor": 2
}
