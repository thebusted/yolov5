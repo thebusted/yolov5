{
 "cells": [
  {
   "cell_type": "code",
   "execution_count": 4,
   "metadata": {},
   "outputs": [
    {
     "name": "stderr",
     "output_type": "stream",
     "text": [
      "\u001b[34m\u001b[1mdetect: \u001b[0mweights=['runs/train/exp/weights/best.pt'], source=tests/, data=data\\coco128.yaml, imgsz=[640, 640], conf_thres=0.25, iou_thres=0.45, max_det=1000, device=, view_img=False, save_txt=False, save_csv=False, save_conf=False, save_crop=False, nosave=False, classes=None, agnostic_nms=False, augment=False, visualize=False, update=False, project=runs\\detect, name=exp, exist_ok=False, line_thickness=3, hide_labels=False, hide_conf=False, half=False, dnn=False, vid_stride=1\n",
      "YOLOv5  v7.0-309-g8bcb8180 Python-3.11.9 torch-2.3.0+cpu CPU\n",
      "\n",
      "Fusing layers... \n",
      "Model summary: 157 layers, 7020913 parameters, 0 gradients, 15.8 GFLOPs\n",
      "image 1/24 E:\\AI\\freerolls\\tests\\102255.jpg: 640x384 1 burger, 99.5ms\n",
      "image 2/24 E:\\AI\\freerolls\\tests\\17244.jpg: 640x384 1 sandwiches, 90.0ms\n",
      "image 3/24 E:\\AI\\freerolls\\tests\\17356.jpg: 640x384 1 sandwiches, 97.0ms\n",
      "image 4/24 E:\\AI\\freerolls\\tests\\1863.jpg: 640x384 1 burger, 97.5ms\n",
      "image 5/24 E:\\AI\\freerolls\\tests\\1868.jpg: 640x384 1 burger, 98.0ms\n",
      "image 6/24 E:\\AI\\freerolls\\tests\\36365.jpg: 640x480 1 warp, 107.0ms\n",
      "image 7/24 E:\\AI\\freerolls\\tests\\38790.jpg: 640x480 1 sandwiches, 90.0ms\n",
      "image 8/24 E:\\AI\\freerolls\\tests\\38827.jpg: 640x384 (no detections), 77.0ms\n",
      "image 9/24 E:\\AI\\freerolls\\tests\\446058.jpg: 640x480 1 sandwiches, 1 warp, 127.0ms\n",
      "image 10/24 E:\\AI\\freerolls\\tests\\483035184095297657.jpg: 640x480 2 sliders, 136.7ms\n",
      "image 11/24 E:\\AI\\freerolls\\tests\\483049789719314707.jpg: 640x384 1 burger, 104.0ms\n",
      "image 12/24 E:\\AI\\freerolls\\tests\\483052544252444883.jpg: 640x384 1 slider, 108.4ms\n",
      "image 13/24 E:\\AI\\freerolls\\tests\\483173032462909509.jpg: 640x384 2 sliders, 102.6ms\n",
      "image 14/24 E:\\AI\\freerolls\\tests\\483175322972324476.jpg: 640x384 1 sandwiches, 150.0ms\n",
      "image 15/24 E:\\AI\\freerolls\\tests\\483308435148898728.jpg: 640x480 1 slider, 99.0ms\n",
      "image 16/24 E:\\AI\\freerolls\\tests\\483315517684187337.jpg: 640x480 1 burger, 110.0ms\n",
      "image 17/24 E:\\AI\\freerolls\\tests\\60984.jpg: 640x384 12 sliders, 151.5ms\n",
      "image 18/24 E:\\AI\\freerolls\\tests\\S__206774321.jpg: 640x480 1 warp, 192.1ms\n",
      "image 19/24 E:\\AI\\freerolls\\tests\\S__30900239.jpg: 640x384 2 burgers, 107.0ms\n",
      "image 20/24 E:\\AI\\freerolls\\tests\\S__31088644.jpg: 640x384 1 burger, 85.0ms\n",
      "image 21/24 E:\\AI\\freerolls\\tests\\S__31145992.jpg: 640x384 1 burger, 115.0ms\n",
      "image 22/24 E:\\AI\\freerolls\\tests\\S__4038677.jpg: 640x384 1 burger, 88.0ms\n",
      "image 23/24 E:\\AI\\freerolls\\tests\\S__4038679.jpg: 640x384 1 burger, 93.1ms\n",
      "image 24/24 E:\\AI\\freerolls\\tests\\messageImage_1700571948267.jpg: 384x640 1 burger, 96.0ms\n",
      "Speed: 0.7ms pre-process, 109.2ms inference, 0.6ms NMS per image at shape (1, 3, 640, 640)\n",
      "Results saved to \u001b[1mruns\\detect\\exp9\u001b[0m\n"
     ]
    },
    {
     "ename": "",
     "evalue": "",
     "output_type": "error",
     "traceback": [
      "\u001b[1;31mThe Kernel crashed while executing code in the current cell or a previous cell. \n",
      "\u001b[1;31mPlease review the code in the cell(s) to identify a possible cause of the failure. \n",
      "\u001b[1;31mClick <a href='https://aka.ms/vscodeJupyterKernelCrash'>here</a> for more info. \n",
      "\u001b[1;31mView Jupyter <a href='command:jupyter.viewOutput'>log</a> for further details."
     ]
    }
   ],
   "source": [
    "!python detect.py --weights runs/train/exp/weights/best.pt --img 640 --conf 0.25 --source tests/"
   ]
  }
 ],
 "metadata": {
  "kernelspec": {
   "display_name": "aiml",
   "language": "python",
   "name": "python3"
  },
  "language_info": {
   "codemirror_mode": {
    "name": "ipython",
    "version": 3
   },
   "file_extension": ".py",
   "mimetype": "text/x-python",
   "name": "python",
   "nbconvert_exporter": "python",
   "pygments_lexer": "ipython3",
   "version": "3.11.9"
  }
 },
 "nbformat": 4,
 "nbformat_minor": 2
}
